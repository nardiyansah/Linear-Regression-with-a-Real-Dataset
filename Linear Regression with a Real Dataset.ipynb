{
 "cells": [
  {
   "cell_type": "code",
   "execution_count": 8,
   "metadata": {},
   "outputs": [],
   "source": [
    "#@title Copyright 2020 Google LLC. Double-click here for license information.\n",
    "# Licensed under the Apache License, Version 2.0 (the \"License\");\n",
    "# you may not use this file except in compliance with the License.\n",
    "# You may obtain a copy of the License at\n",
    "#\n",
    "# https://www.apache.org/licenses/LICENSE-2.0\n",
    "#\n",
    "# Unless required by applicable law or agreed to in writing, software\n",
    "# distributed under the License is distributed on an \"AS IS\" BASIS,\n",
    "# WITHOUT WARRANTIES OR CONDITIONS OF ANY KIND, either express or implied.\n",
    "# See the License for the specific language governing permissions and\n",
    "# limitations under the License."
   ]
  },
  {
   "cell_type": "markdown",
   "metadata": {},
   "source": [
    "# Linear Regression with a Real Dataset\n",
    "\n",
    "notebook ini menggunakan dataset real untuk memprediksi harga rumah di California"
   ]
  },
  {
   "cell_type": "markdown",
   "metadata": {},
   "source": [
    "## Learning Objectives:\n",
    "\n",
    "Setelah menyelesaikan notebook ini, Kamu akan tau tentang :\n",
    "- Membaca sebuah file .csv ke dalam pandas DataFrame\n",
    "- Memeriksa dataset\n",
    "- Bereksperimen dengan fitur berbeda dalam pembuatan model\n",
    "- Tuning hyperparameter model"
   ]
  },
  {
   "cell_type": "markdown",
   "metadata": {},
   "source": [
    "## The Dataset\n",
    "  \n",
    "[dataset](https://developers.google.com/machine-learning/crash-course/california-housing-data-description) yang digunakan merupakan data sensus di California pada tahun 1990. Merupakan dataset lama tapi masih bagus dipake untuk machine learning program."
   ]
  },
  {
   "cell_type": "markdown",
   "metadata": {},
   "source": [
    "## Import modul yang dibutuhkan"
   ]
  },
  {
   "cell_type": "code",
   "execution_count": 9,
   "metadata": {},
   "outputs": [],
   "source": [
    "import pandas as pd\n",
    "import tensorflow as tf\n",
    "from matplotlib import pyplot as plt\n",
    "\n",
    "# The following lines adjust the granularity of reporting. \n",
    "pd.options.display.max_rows = 10\n",
    "pd.options.display.float_format = \"{:.1f}\".format"
   ]
  },
  {
   "cell_type": "markdown",
   "metadata": {},
   "source": [
    "## Dataset\n",
    "\n",
    "Dataset biasanya tersimpan di disk komputer yang akan digunakan atau diakses lewat URL dalam bentuk csv (Comma Separated Value). \n",
    "\n",
    "file .csv yang baik biasanya berisi nama kolom di baris pertama, diikuti dengan data di baris-baris selanjutnya. Koma memisahkan setiap nilai di setiap barisnya. Sebagai contoh, ini merupakan 5 baris pertama dari dataset rumah California.\n",
    "\n",
    "```\n",
    "\"longitude\",\"latitude\",\"housing_median_age\",\"total_rooms\",\"total_bedrooms\",\"population\",\"households\",\"median_income\",\"median_house_value\"\n",
    "-114.310000,34.190000,15.000000,5612.000000,1283.000000,1015.000000,472.000000,1.493600,66900.000000\n",
    "-114.470000,34.400000,19.000000,7650.000000,1901.000000,1129.000000,463.000000,1.820000,80100.000000\n",
    "-114.560000,33.690000,17.000000,720.000000,174.000000,333.000000,117.000000,1.650900,85700.000000\n",
    "-114.570000,33.640000,14.000000,1501.000000,337.000000,515.000000,226.000000,3.191700,73400.000000\n",
    "```"
   ]
  },
  {
   "cell_type": "markdown",
   "metadata": {},
   "source": [
    "## Load csv file ke dalam pandas DataFrame\n",
    "\n",
    "Kode dibawah akan mengimport csv file ke dalam pandas DataFrame dan menskalakan nilai label (`median_house_value`):"
   ]
  },
  {
   "cell_type": "code",
   "execution_count": 10,
   "metadata": {},
   "outputs": [
    {
     "data": {
      "text/html": [
       "<div>\n",
       "<style scoped>\n",
       "    .dataframe tbody tr th:only-of-type {\n",
       "        vertical-align: middle;\n",
       "    }\n",
       "\n",
       "    .dataframe tbody tr th {\n",
       "        vertical-align: top;\n",
       "    }\n",
       "\n",
       "    .dataframe thead th {\n",
       "        text-align: right;\n",
       "    }\n",
       "</style>\n",
       "<table border=\"1\" class=\"dataframe\">\n",
       "  <thead>\n",
       "    <tr style=\"text-align: right;\">\n",
       "      <th></th>\n",
       "      <th>longitude</th>\n",
       "      <th>latitude</th>\n",
       "      <th>housing_median_age</th>\n",
       "      <th>total_rooms</th>\n",
       "      <th>total_bedrooms</th>\n",
       "      <th>population</th>\n",
       "      <th>households</th>\n",
       "      <th>median_income</th>\n",
       "      <th>median_house_value</th>\n",
       "    </tr>\n",
       "  </thead>\n",
       "  <tbody>\n",
       "    <tr>\n",
       "      <th>0</th>\n",
       "      <td>-114.3</td>\n",
       "      <td>34.2</td>\n",
       "      <td>15.0</td>\n",
       "      <td>5612.0</td>\n",
       "      <td>1283.0</td>\n",
       "      <td>1015.0</td>\n",
       "      <td>472.0</td>\n",
       "      <td>1.5</td>\n",
       "      <td>66.9</td>\n",
       "    </tr>\n",
       "    <tr>\n",
       "      <th>1</th>\n",
       "      <td>-114.5</td>\n",
       "      <td>34.4</td>\n",
       "      <td>19.0</td>\n",
       "      <td>7650.0</td>\n",
       "      <td>1901.0</td>\n",
       "      <td>1129.0</td>\n",
       "      <td>463.0</td>\n",
       "      <td>1.8</td>\n",
       "      <td>80.1</td>\n",
       "    </tr>\n",
       "    <tr>\n",
       "      <th>2</th>\n",
       "      <td>-114.6</td>\n",
       "      <td>33.7</td>\n",
       "      <td>17.0</td>\n",
       "      <td>720.0</td>\n",
       "      <td>174.0</td>\n",
       "      <td>333.0</td>\n",
       "      <td>117.0</td>\n",
       "      <td>1.7</td>\n",
       "      <td>85.7</td>\n",
       "    </tr>\n",
       "    <tr>\n",
       "      <th>3</th>\n",
       "      <td>-114.6</td>\n",
       "      <td>33.6</td>\n",
       "      <td>14.0</td>\n",
       "      <td>1501.0</td>\n",
       "      <td>337.0</td>\n",
       "      <td>515.0</td>\n",
       "      <td>226.0</td>\n",
       "      <td>3.2</td>\n",
       "      <td>73.4</td>\n",
       "    </tr>\n",
       "    <tr>\n",
       "      <th>4</th>\n",
       "      <td>-114.6</td>\n",
       "      <td>33.6</td>\n",
       "      <td>20.0</td>\n",
       "      <td>1454.0</td>\n",
       "      <td>326.0</td>\n",
       "      <td>624.0</td>\n",
       "      <td>262.0</td>\n",
       "      <td>1.9</td>\n",
       "      <td>65.5</td>\n",
       "    </tr>\n",
       "  </tbody>\n",
       "</table>\n",
       "</div>"
      ],
      "text/plain": [
       "   longitude  latitude  housing_median_age  total_rooms  total_bedrooms  \\\n",
       "0     -114.3      34.2                15.0       5612.0          1283.0   \n",
       "1     -114.5      34.4                19.0       7650.0          1901.0   \n",
       "2     -114.6      33.7                17.0        720.0           174.0   \n",
       "3     -114.6      33.6                14.0       1501.0           337.0   \n",
       "4     -114.6      33.6                20.0       1454.0           326.0   \n",
       "\n",
       "   population  households  median_income  median_house_value  \n",
       "0      1015.0       472.0            1.5                66.9  \n",
       "1      1129.0       463.0            1.8                80.1  \n",
       "2       333.0       117.0            1.7                85.7  \n",
       "3       515.0       226.0            3.2                73.4  \n",
       "4       624.0       262.0            1.9                65.5  "
      ]
     },
     "execution_count": 10,
     "metadata": {},
     "output_type": "execute_result"
    }
   ],
   "source": [
    "# import the dataset\n",
    "training_df = pd.read_csv(filepath_or_buffer=\"https://download.mlcc.google.com/mledu-datasets/california_housing_train.csv\")\n",
    "\n",
    "training_df[\"median_house_value\"] /= 1000.0\n",
    "\n",
    "# Print baris-baris awal di dataframe\n",
    "training_df.head()"
   ]
  },
  {
   "cell_type": "markdown",
   "metadata": {},
   "source": [
    "Menskalakan `median_house_value` membuat nilai dari setiap rumah dalam unit ribuan (bukan puluhan ribu atau ratusan ribu). Penskalaan akan menjaga loss values dan learning rate dalam range yang lebih bersahabat.\n",
    "\n",
    "Walaupun penskalaan label biasanya tidak penting, penskalaan feature dalam model multi-feature biasanya penting."
   ]
  },
  {
   "cell_type": "markdown",
   "metadata": {},
   "source": [
    "## Mengecek dataset\n",
    "\n",
    "Bagian besar dari projek machine learning adalah memahami data. Pandas API menyediakan fungsi `describe` yang akan mengeluarkan statistik dari setiap kolom di DataFrame:\n",
    "- `count`, yang mana merupakan jumlah baris di kolom tersebut. Idealnya, `count` berisi nilai yang sama di setiap kolom.\n",
    "- `mean` dan `std`, yang berisi nilai mean (rata-rata) dan standar deviasi di setiap kolomnya\n",
    "- `min` dan `max`, yang berisi nilai terkecil dan nilai terbesar di setiap kolom.\n",
    "- `25%`, `50%`, dan `75%` , berisi nilai kuantil"
   ]
  },
  {
   "cell_type": "code",
   "execution_count": 11,
   "metadata": {},
   "outputs": [
    {
     "data": {
      "text/html": [
       "<div>\n",
       "<style scoped>\n",
       "    .dataframe tbody tr th:only-of-type {\n",
       "        vertical-align: middle;\n",
       "    }\n",
       "\n",
       "    .dataframe tbody tr th {\n",
       "        vertical-align: top;\n",
       "    }\n",
       "\n",
       "    .dataframe thead th {\n",
       "        text-align: right;\n",
       "    }\n",
       "</style>\n",
       "<table border=\"1\" class=\"dataframe\">\n",
       "  <thead>\n",
       "    <tr style=\"text-align: right;\">\n",
       "      <th></th>\n",
       "      <th>longitude</th>\n",
       "      <th>latitude</th>\n",
       "      <th>housing_median_age</th>\n",
       "      <th>total_rooms</th>\n",
       "      <th>total_bedrooms</th>\n",
       "      <th>population</th>\n",
       "      <th>households</th>\n",
       "      <th>median_income</th>\n",
       "      <th>median_house_value</th>\n",
       "    </tr>\n",
       "  </thead>\n",
       "  <tbody>\n",
       "    <tr>\n",
       "      <th>count</th>\n",
       "      <td>17000.0</td>\n",
       "      <td>17000.0</td>\n",
       "      <td>17000.0</td>\n",
       "      <td>17000.0</td>\n",
       "      <td>17000.0</td>\n",
       "      <td>17000.0</td>\n",
       "      <td>17000.0</td>\n",
       "      <td>17000.0</td>\n",
       "      <td>17000.0</td>\n",
       "    </tr>\n",
       "    <tr>\n",
       "      <th>mean</th>\n",
       "      <td>-119.6</td>\n",
       "      <td>35.6</td>\n",
       "      <td>28.6</td>\n",
       "      <td>2643.7</td>\n",
       "      <td>539.4</td>\n",
       "      <td>1429.6</td>\n",
       "      <td>501.2</td>\n",
       "      <td>3.9</td>\n",
       "      <td>207.3</td>\n",
       "    </tr>\n",
       "    <tr>\n",
       "      <th>std</th>\n",
       "      <td>2.0</td>\n",
       "      <td>2.1</td>\n",
       "      <td>12.6</td>\n",
       "      <td>2179.9</td>\n",
       "      <td>421.5</td>\n",
       "      <td>1147.9</td>\n",
       "      <td>384.5</td>\n",
       "      <td>1.9</td>\n",
       "      <td>116.0</td>\n",
       "    </tr>\n",
       "    <tr>\n",
       "      <th>min</th>\n",
       "      <td>-124.3</td>\n",
       "      <td>32.5</td>\n",
       "      <td>1.0</td>\n",
       "      <td>2.0</td>\n",
       "      <td>1.0</td>\n",
       "      <td>3.0</td>\n",
       "      <td>1.0</td>\n",
       "      <td>0.5</td>\n",
       "      <td>15.0</td>\n",
       "    </tr>\n",
       "    <tr>\n",
       "      <th>25%</th>\n",
       "      <td>-121.8</td>\n",
       "      <td>33.9</td>\n",
       "      <td>18.0</td>\n",
       "      <td>1462.0</td>\n",
       "      <td>297.0</td>\n",
       "      <td>790.0</td>\n",
       "      <td>282.0</td>\n",
       "      <td>2.6</td>\n",
       "      <td>119.4</td>\n",
       "    </tr>\n",
       "    <tr>\n",
       "      <th>50%</th>\n",
       "      <td>-118.5</td>\n",
       "      <td>34.2</td>\n",
       "      <td>29.0</td>\n",
       "      <td>2127.0</td>\n",
       "      <td>434.0</td>\n",
       "      <td>1167.0</td>\n",
       "      <td>409.0</td>\n",
       "      <td>3.5</td>\n",
       "      <td>180.4</td>\n",
       "    </tr>\n",
       "    <tr>\n",
       "      <th>75%</th>\n",
       "      <td>-118.0</td>\n",
       "      <td>37.7</td>\n",
       "      <td>37.0</td>\n",
       "      <td>3151.2</td>\n",
       "      <td>648.2</td>\n",
       "      <td>1721.0</td>\n",
       "      <td>605.2</td>\n",
       "      <td>4.8</td>\n",
       "      <td>265.0</td>\n",
       "    </tr>\n",
       "    <tr>\n",
       "      <th>max</th>\n",
       "      <td>-114.3</td>\n",
       "      <td>42.0</td>\n",
       "      <td>52.0</td>\n",
       "      <td>37937.0</td>\n",
       "      <td>6445.0</td>\n",
       "      <td>35682.0</td>\n",
       "      <td>6082.0</td>\n",
       "      <td>15.0</td>\n",
       "      <td>500.0</td>\n",
       "    </tr>\n",
       "  </tbody>\n",
       "</table>\n",
       "</div>"
      ],
      "text/plain": [
       "       longitude  latitude  housing_median_age  total_rooms  total_bedrooms  \\\n",
       "count    17000.0   17000.0             17000.0      17000.0         17000.0   \n",
       "mean      -119.6      35.6                28.6       2643.7           539.4   \n",
       "std          2.0       2.1                12.6       2179.9           421.5   \n",
       "min       -124.3      32.5                 1.0          2.0             1.0   \n",
       "25%       -121.8      33.9                18.0       1462.0           297.0   \n",
       "50%       -118.5      34.2                29.0       2127.0           434.0   \n",
       "75%       -118.0      37.7                37.0       3151.2           648.2   \n",
       "max       -114.3      42.0                52.0      37937.0          6445.0   \n",
       "\n",
       "       population  households  median_income  median_house_value  \n",
       "count     17000.0     17000.0        17000.0             17000.0  \n",
       "mean       1429.6       501.2            3.9               207.3  \n",
       "std        1147.9       384.5            1.9               116.0  \n",
       "min           3.0         1.0            0.5                15.0  \n",
       "25%         790.0       282.0            2.6               119.4  \n",
       "50%        1167.0       409.0            3.5               180.4  \n",
       "75%        1721.0       605.2            4.8               265.0  \n",
       "max       35682.0      6082.0           15.0               500.0  "
      ]
     },
     "execution_count": 11,
     "metadata": {},
     "output_type": "execute_result"
    }
   ],
   "source": [
    "# Get statistic on the dataset\n",
    "training_df.describe()"
   ]
  },
  {
   "cell_type": "markdown",
   "metadata": {},
   "source": [
    "# Task 1: Identify anomalies in the dataset\n",
    "\n",
    "\n",
    "Do you see any anomalies (strange values) in the data? "
   ]
  },
  {
   "cell_type": "markdown",
   "metadata": {},
   "source": [
    "## Jawaban dari Google\n",
    "\n",
    "nilai maksimum (max) beberapa kolom terlihat sangat tinggi jika dibandingkan dengan kuantil lainnya. Sebagai contoh `total_rooms`. Kamu bisa berekspektasi nilai maksimum dari `total_rooms` adalah 5000 atau mendekati 10.000. Tapi data yang sebenarnya adalah 37.937.\n",
    "\n",
    "Ketika kamu melihat sebuah anomali di dalam kolom, lebih berhati-hatilah menggunakan kolom tersebut sebagai sebuah feature. Bisa saja, anomali di potential feature merupakan cerminan dari anomali di dalam label, yang mana membuat kolom tersebut tampaknya feature yang powerful."
   ]
  },
  {
   "cell_type": "markdown",
   "metadata": {},
   "source": [
    "## Mendefinisikan fungsi untuk build dan train model"
   ]
  },
  {
   "cell_type": "code",
   "execution_count": 19,
   "metadata": {},
   "outputs": [
    {
     "name": "stdout",
     "output_type": "stream",
     "text": [
      "Defined the build_model and training_model functions\n"
     ]
    }
   ],
   "source": [
    "def build_model(my_learning_rate):\n",
    "    \n",
    "    model = tf.keras.models.Sequential()\n",
    "    \n",
    "    model.add(tf.keras.layers.Dense(units=1, input_shape=(1,)))\n",
    "    \n",
    "    model.compile(optimizer=tf.keras.optimizers.RMSprop(lr=my_learning_rate), loss=\"mean_squared_error\", metrics=[tf.keras.metrics.RootMeanSquaredError()])\n",
    "    \n",
    "    return model\n",
    "\n",
    "def train_model(model, df, feature, label, epochs, batch_size):\n",
    "    \n",
    "    history = model.fit(x=df[feature], y=df[label], batch_size=batch_size, epochs=epochs)\n",
    "    \n",
    "    trained_weight = model.get_weights()[0]\n",
    "    trained_bias = model.get_weights()[1]\n",
    "    \n",
    "    epochs = history.epoch\n",
    "    \n",
    "    hist = pd.DataFrame(history.history)\n",
    "    \n",
    "    rmse = hist[\"root_mean_squared_error\"]\n",
    "    \n",
    "    return trained_weight, trained_bias, epochs, rmse\n",
    "\n",
    "print(\"Defined the build_model and training_model functions\")"
   ]
  },
  {
   "cell_type": "markdown",
   "metadata": {},
   "source": [
    "## Mendefinisikan plotting functions"
   ]
  },
  {
   "cell_type": "code",
   "execution_count": 13,
   "metadata": {},
   "outputs": [
    {
     "name": "stdout",
     "output_type": "stream",
     "text": [
      "Defined the plot_the_model and plot_the_loss_curve functions\n"
     ]
    }
   ],
   "source": [
    "def plot_the_model(trained_weight, trained_bias, feature, label):\n",
    "    # plot model yang sudah dilatih dengan 200 example training acak\n",
    "    \n",
    "    plt.xlabel(feature)\n",
    "    plt.ylabel(label)\n",
    "    \n",
    "    # buat scatter plot terhadap 200 data diambil acak dari dataset\n",
    "    random_examples = training_df.sample(n=200)\n",
    "    plt.scatter(random_examples[feature], random_examples[label])\n",
    "    \n",
    "    # buat garis merah yang menunjukkan model\n",
    "    x0 = 0\n",
    "    y0 = trained_bias\n",
    "    x1 = 10000\n",
    "    y1 = trained_bias + (trained_weight * x1)\n",
    "    \n",
    "    plt.plot([x0, x1], [y0, y1], c='r')\n",
    "    \n",
    "    plt.show()\n",
    "    \n",
    "\n",
    "def plot_the_loss_curve(epochs, rmse):\n",
    "    \n",
    "    plt.figure()\n",
    "    plt.xlabel(\"Epoch\")\n",
    "    plt.ylabel(\"Root Mean Squarred Error\")\n",
    "    \n",
    "    plt.plot(epochs, rmse, label=\"Loss\")\n",
    "    plt.legend()\n",
    "    plt.ylim([rmse.min()*0.97, rmse.max()])\n",
    "    \n",
    "    plt.show()\n",
    "    \n",
    "\n",
    "print(\"Defined the plot_the_model and plot_the_loss_curve functions\")"
   ]
  },
  {
   "cell_type": "markdown",
   "metadata": {},
   "source": [
    "## Panggil function model\n",
    "\n",
    "Bagian penting dari machine learning adalah menentukan feature mana yang berelasi dengan label. Sebagai contoh, model prediksi nilai rumah yang nyata mungkin menggunakan banyak feature dan feature buatan. Bagaimanapun, model yang akan kita gunakan hanya menggunakan 1 feature. Untuk sekarang, kita akan menggunakan `total_rooms` sebagai feature."
   ]
  },
  {
   "cell_type": "code",
   "execution_count": 20,
   "metadata": {},
   "outputs": [
    {
     "name": "stdout",
     "output_type": "stream",
     "text": [
      "Epoch 1/30\n",
      "567/567 [==============================] - 1s 853us/step - loss: 296636.8693 - root_mean_squared_error: 487.7151\n",
      "Epoch 2/30\n",
      "567/567 [==============================] - 0s 816us/step - loss: 27456.5792 - root_mean_squared_error: 165.6760\n",
      "Epoch 3/30\n",
      "567/567 [==============================] - 1s 1ms/step - loss: 27177.7883 - root_mean_squared_error: 164.8346\n",
      "Epoch 4/30\n",
      "567/567 [==============================] - 0s 805us/step - loss: 26099.1572 - root_mean_squared_error: 161.5362\n",
      "Epoch 5/30\n",
      "567/567 [==============================] - 1s 882us/step - loss: 24864.6423 - root_mean_squared_error: 157.6672\n",
      "Epoch 6/30\n",
      "567/567 [==============================] - 0s 807us/step - loss: 25000.0244 - root_mean_squared_error: 158.0900\n",
      "Epoch 7/30\n",
      "567/567 [==============================] - 0s 824us/step - loss: 24711.1741 - root_mean_squared_error: 157.1868\n",
      "Epoch 8/30\n",
      "567/567 [==============================] - 1s 1ms/step - loss: 24089.4026 - root_mean_squared_error: 155.1994\n",
      "Epoch 9/30\n",
      "567/567 [==============================] - 1s 911us/step - loss: 23979.8030 - root_mean_squared_error: 154.8127\n",
      "Epoch 10/30\n",
      "567/567 [==============================] - 0s 815us/step - loss: 23010.6467 - root_mean_squared_error: 151.6717\n",
      "Epoch 11/30\n",
      "567/567 [==============================] - 0s 812us/step - loss: 21951.8429 - root_mean_squared_error: 148.1234\n",
      "Epoch 12/30\n",
      "567/567 [==============================] - 1s 966us/step - loss: 21928.8461 - root_mean_squared_error: 148.0660\n",
      "Epoch 13/30\n",
      "567/567 [==============================] - 0s 832us/step - loss: 19975.6493 - root_mean_squared_error: 141.2878\n",
      "Epoch 14/30\n",
      "567/567 [==============================] - 0s 879us/step - loss: 20348.3057 - root_mean_squared_error: 142.6367\n",
      "Epoch 15/30\n",
      "567/567 [==============================] - 0s 820us/step - loss: 20183.2445 - root_mean_squared_error: 142.0432\n",
      "Epoch 16/30\n",
      "567/567 [==============================] - 0s 833us/step - loss: 19544.4703 - root_mean_squared_error: 139.7754\n",
      "Epoch 17/30\n",
      "567/567 [==============================] - 0s 844us/step - loss: 19239.9339 - root_mean_squared_error: 138.6996\n",
      "Epoch 18/30\n",
      "567/567 [==============================] - 0s 811us/step - loss: 18259.7114 - root_mean_squared_error: 135.0853\n",
      "Epoch 19/30\n",
      "567/567 [==============================] - 0s 820us/step - loss: 18155.1573 - root_mean_squared_error: 134.7338\n",
      "Epoch 20/30\n",
      "567/567 [==============================] - 1s 902us/step - loss: 18442.1243 - root_mean_squared_error: 135.7806\n",
      "Epoch 21/30\n",
      "567/567 [==============================] - 1s 1ms/step - loss: 17846.0682 - root_mean_squared_error: 133.5769\n",
      "Epoch 22/30\n",
      "567/567 [==============================] - 1s 947us/step - loss: 17468.0888 - root_mean_squared_error: 132.1567\n",
      "Epoch 23/30\n",
      "567/567 [==============================] - 1s 966us/step - loss: 17189.9245 - root_mean_squared_error: 131.0849\n",
      "Epoch 24/30\n",
      "567/567 [==============================] - 1s 1ms/step - loss: 16404.8138 - root_mean_squared_error: 128.0642\n",
      "Epoch 25/30\n",
      "567/567 [==============================] - 1s 893us/step - loss: 16114.4888 - root_mean_squared_error: 126.9348\n",
      "Epoch 26/30\n",
      "567/567 [==============================] - 1s 886us/step - loss: 16010.6541 - root_mean_squared_error: 126.5091\n",
      "Epoch 27/30\n",
      "567/567 [==============================] - 1s 1ms/step - loss: 15848.4660 - root_mean_squared_error: 125.8817\n",
      "Epoch 28/30\n",
      "567/567 [==============================] - 0s 849us/step - loss: 15650.9625 - root_mean_squared_error: 125.0902\n",
      "Epoch 29/30\n",
      "567/567 [==============================] - 1s 985us/step - loss: 15465.9318 - root_mean_squared_error: 124.3403\n",
      "Epoch 30/30\n",
      "567/567 [==============================] - 1s 922us/step - loss: 15177.7335 - root_mean_squared_error: 123.1863\n",
      "\n",
      "The learned weight for your model is 0.0155\n",
      "The learned bias for your model is 132.0406\n",
      "\n"
     ]
    },
    {
     "name": "stderr",
     "output_type": "stream",
     "text": [
      "/home/nardiyansah/anaconda3/lib/python3.8/site-packages/numpy/core/_asarray.py:136: VisibleDeprecationWarning: Creating an ndarray from ragged nested sequences (which is a list-or-tuple of lists-or-tuples-or ndarrays with different lengths or shapes) is deprecated. If you meant to do this, you must specify 'dtype=object' when creating the ndarray\n",
      "  return array(a, dtype, copy=False, order=order, subok=True)\n"
     ]
    },
    {
     "data": {
      "image/png": "[encoded data removed]",
      "text/plain": [
       "<Figure size 432x288 with 1 Axes>"
      ]
     },
     "metadata": {
      "needs_background": "light"
     },
     "output_type": "display_data"
    },
    {
     "data": {
      "image/png": "[encoded data removed]",
      "text/plain": [
       "<Figure size 432x288 with 1 Axes>"
      ]
     },
     "metadata": {
      "needs_background": "light"
     },
     "output_type": "display_data"
    }
   ],
   "source": [
    "# the following variables are the hyperparameter\n",
    "learning_rate = 0.01\n",
    "epochs = 30\n",
    "batch_size = 30\n",
    "\n",
    "# specifiy the feature and the label\n",
    "my_feature = \"total_rooms\"\n",
    "my_label = \"median_house_value\"\n",
    "\n",
    "# Discard any pre-existing version of the model\n",
    "my_model = None\n",
    "\n",
    "# Invoke the functions\n",
    "my_model = build_model(learning_rate)\n",
    "weight, bias, epochs, rmse = train_model(my_model, training_df, my_feature, my_label, epochs, batch_size)\n",
    "\n",
    "print(\"\\nThe learned weight for your model is %.4f\" % weight)\n",
    "print(\"The learned bias for your model is %.4f\\n\" % bias)\n",
    "\n",
    "plot_the_model(weight, bias, my_feature, my_label)\n",
    "plot_the_loss_curve(epochs, rmse)"
   ]
  },
  {
   "cell_type": "markdown",
   "metadata": {},
   "source": [
    "Hasilnya tidak cukup baik, mungkin karena kita hanya memakai 1 feature"
   ]
  },
  {
   "cell_type": "markdown",
   "metadata": {},
   "source": [
    "## Menggunakan model untuk prediksi\n",
    "\n",
    "kamu bisa menggunakan model yang sudah di training untuk memprediksi. Dalam praktiknya, **kamu harus melakukan prediksi pada example yang tidak dipakai untuk training**. Bagaimanapun, di latihan kali ini, kamu hanya akan bekerja menggunakan sebagian dari dataset training. Pada latihan mendatang , akan menggunakan data yang belum pernah dipake untuk training."
   ]
  },
  {
   "cell_type": "code",
   "execution_count": 21,
   "metadata": {},
   "outputs": [],
   "source": [
    "def predict_house_values(n, feature, label):\n",
    "    # predict house values based on a feature\n",
    "    \n",
    "    batch = training_df[feature][10000:10000 + n]\n",
    "    predicted_values = my_model.predict_on_batch(x=batch)\n",
    "    \n",
    "    print(\"feature  label         predicted\")\n",
    "    print(\"  value  value         value\")\n",
    "    print(\"         in thousand$  in thousand$\")\n",
    "    print(\"------------------------------------\")\n",
    "    for i in range(n):\n",
    "        print(\"%5.0f %6.0f %15.0f\" % (training_df[feature][10000 + i], training_df[label][10000 + i], predicted_values[i][0]))"
   ]
  },
  {
   "cell_type": "markdown",
   "metadata": {},
   "source": [
    "Sekarang coba prediksi menggunakan 10 example"
   ]
  },
  {
   "cell_type": "code",
   "execution_count": 22,
   "metadata": {},
   "outputs": [
    {
     "name": "stdout",
     "output_type": "stream",
     "text": [
      "feature  label         predicted\n",
      "  value  value         value\n",
      "         in thousand$  in thousand$\n",
      "------------------------------------\n",
      " 1960     53             162\n",
      " 3400     92             185\n",
      " 3677     69             189\n",
      " 2202     62             166\n",
      " 2403     80             169\n",
      " 5652    295             220\n",
      " 3318    500             184\n",
      " 2552    342             172\n",
      " 1364    118             153\n",
      " 3468    128             186\n"
     ]
    }
   ],
   "source": [
    "predict_house_values(10, my_feature, my_label)"
   ]
  },
  {
   "cell_type": "markdown",
   "metadata": {},
   "source": [
    "### Task 2: Judge the predictive power of the model\n",
    "\n",
    "Look at the preceding table. How close is the predicted value to the label value?  In other words, does your model accurately predict house values?  "
   ]
  },
  {
   "cell_type": "markdown",
   "metadata": {},
   "source": [
    "nilai prediksi masih jauh dari nilai sebenarnya"
   ]
  },
  {
   "cell_type": "code",
   "execution_count": 23,
   "metadata": {},
   "outputs": [],
   "source": [
    "# Jawaban Google\n",
    "\n",
    "# Most of the predicted values differ significantly\n",
    "# from the label value, so the trained model probably \n",
    "# doesn't have much predictive power. However, the\n",
    "# first 10 examples might not be representative of \n",
    "# the rest of the examples.  "
   ]
  },
  {
   "cell_type": "markdown",
   "metadata": {},
   "source": [
    "## Task 3: Try a different feature\n",
    "\n",
    "The `total_rooms` feature had only a little predictive power. Would a different feature have greater predictive power?  Try using `population` as the feature instead of `total_rooms`. \n",
    "\n",
    "Note: When you change features, you might also need to change the hyperparameters."
   ]
  },
  {
   "cell_type": "code",
   "execution_count": 31,
   "metadata": {},
   "outputs": [
    {
     "name": "stdout",
     "output_type": "stream",
     "text": [
      "Epoch 1/20\n",
      "4250/4250 [==============================] - 3s 706us/step - loss: 26638.4241 - root_mean_squared_error: 162.9711\n",
      "Epoch 2/20\n",
      "4250/4250 [==============================] - 3s 624us/step - loss: 17318.2260 - root_mean_squared_error: 131.5526\n",
      "Epoch 3/20\n",
      "4250/4250 [==============================] - 3s 628us/step - loss: 14843.7690 - root_mean_squared_error: 121.8280\n",
      "Epoch 4/20\n",
      "4250/4250 [==============================] - 3s 626us/step - loss: 14551.1210 - root_mean_squared_error: 120.5964\n",
      "Epoch 5/20\n",
      "4250/4250 [==============================] - 4s 826us/step - loss: 14424.0509 - root_mean_squared_error: 120.0750\n",
      "Epoch 6/20\n",
      "4250/4250 [==============================] - 3s 709us/step - loss: 14238.9364 - root_mean_squared_error: 119.2564\n",
      "Epoch 7/20\n",
      "4250/4250 [==============================] - 4s 827us/step - loss: 14040.3211 - root_mean_squared_error: 118.4617\n",
      "Epoch 8/20\n",
      "4250/4250 [==============================] - 3s 634us/step - loss: 14374.5466 - root_mean_squared_error: 119.8851\n",
      "Epoch 9/20\n",
      "4250/4250 [==============================] - 3s 636us/step - loss: 14311.8389 - root_mean_squared_error: 119.6211\n",
      "Epoch 10/20\n",
      "4250/4250 [==============================] - 3s 638us/step - loss: 14371.5214 - root_mean_squared_error: 119.8764\n",
      "Epoch 11/20\n",
      "4250/4250 [==============================] - 3s 630us/step - loss: 14469.5263 - root_mean_squared_error: 120.2804\n",
      "Epoch 12/20\n",
      "4250/4250 [==============================] - 3s 691us/step - loss: 14640.9100 - root_mean_squared_error: 120.9787\n",
      "Epoch 13/20\n",
      "4250/4250 [==============================] - 3s 653us/step - loss: 14079.8542 - root_mean_squared_error: 118.6339\n",
      "Epoch 14/20\n",
      "4250/4250 [==============================] - 3s 643us/step - loss: 14549.8575 - root_mean_squared_error: 120.6167\n",
      "Epoch 15/20\n",
      "4250/4250 [==============================] - 3s 637us/step - loss: 14367.9924 - root_mean_squared_error: 119.8612\n",
      "Epoch 16/20\n",
      "4250/4250 [==============================] - 3s 639us/step - loss: 14688.1486 - root_mean_squared_error: 121.1861\n",
      "Epoch 17/20\n",
      "4250/4250 [==============================] - 3s 638us/step - loss: 14548.5843 - root_mean_squared_error: 120.6075\n",
      "Epoch 18/20\n",
      "4250/4250 [==============================] - 3s 646us/step - loss: 14572.7631 - root_mean_squared_error: 120.7123\n",
      "Epoch 19/20\n",
      "4250/4250 [==============================] - 3s 665us/step - loss: 14283.2363 - root_mean_squared_error: 119.4991\n",
      "Epoch 20/20\n",
      "4250/4250 [==============================] - 3s 639us/step - loss: 14215.4671 - root_mean_squared_error: 119.2053\n"
     ]
    },
    {
     "name": "stderr",
     "output_type": "stream",
     "text": [
      "/home/nardiyansah/anaconda3/lib/python3.8/site-packages/numpy/core/_asarray.py:136: VisibleDeprecationWarning: Creating an ndarray from ragged nested sequences (which is a list-or-tuple of lists-or-tuples-or ndarrays with different lengths or shapes) is deprecated. If you meant to do this, you must specify 'dtype=object' when creating the ndarray\n",
      "  return array(a, dtype, copy=False, order=order, subok=True)\n"
     ]
    },
    {
     "data": {
      "image/png": "[encoded data removed]",
      "text/plain": [
       "<Figure size 432x288 with 1 Axes>"
      ]
     },
     "metadata": {
      "needs_background": "light"
     },
     "output_type": "display_data"
    },
    {
     "data": {
      "image/png": "[encoded data removed]",
      "text/plain": [
       "<Figure size 432x288 with 1 Axes>"
      ]
     },
     "metadata": {
      "needs_background": "light"
     },
     "output_type": "display_data"
    },
    {
     "name": "stdout",
     "output_type": "stream",
     "text": [
      "WARNING:tensorflow:9 out of the last 9 calls to <function Model.make_predict_function.<locals>.predict_function at 0x7f91f6c990d0> triggered tf.function retracing. Tracing is expensive and the excessive number of tracings could be due to (1) creating @tf.function repeatedly in a loop, (2) passing tensors with different shapes, (3) passing Python objects instead of tensors. For (1), please define your @tf.function outside of the loop. For (2), @tf.function has experimental_relax_shapes=True option that relaxes argument shapes that can avoid unnecessary retracing. For (3), please refer to https://www.tensorflow.org/guide/function#controlling_retracing and https://www.tensorflow.org/api_docs/python/tf/function for  more details.\n",
      "feature  label         predicted\n",
      "  value  value         value\n",
      "         in thousand$  in thousand$\n",
      "------------------------------------\n",
      "  381     53             191\n",
      "  612     92             188\n",
      "  785     69             186\n",
      "  439     62             190\n",
      "  415     80             191\n",
      " 1294    295             180\n",
      "  404    500             191\n",
      "  424    342             191\n",
      "  152    118             194\n",
      "  626    128             188\n",
      "  363    187             191\n",
      "  164     80             194\n",
      "  909    112             184\n",
      "  681     95             187\n",
      "  604     69             188\n"
     ]
    }
   ],
   "source": [
    "my_feature = \"households\"   # Replace the ? with population or possibly\n",
    "                   # a different column name.\n",
    "\n",
    "# Experiment with the hyperparameters.\n",
    "learning_rate = 0.05\n",
    "epochs = 20\n",
    "batch_size = 4\n",
    "\n",
    "# Don't change anything below this line.\n",
    "my_model = build_model(learning_rate)\n",
    "weight, bias, epochs, rmse = train_model(my_model, training_df, \n",
    "                                         my_feature, my_label,\n",
    "                                         epochs, batch_size)\n",
    "plot_the_model(weight, bias, my_feature, my_label)\n",
    "plot_the_loss_curve(epochs, rmse)\n",
    "\n",
    "predict_house_values(15, my_feature, my_label)"
   ]
  },
  {
   "cell_type": "code",
   "execution_count": 29,
   "metadata": {},
   "outputs": [
    {
     "name": "stdout",
     "output_type": "stream",
     "text": [
      "Epoch 1/18\n",
      "5667/5667 [==============================] - 4s 699us/step - loss: 32344.6556 - root_mean_squared_error: 179.6065 0s - loss: 32756.7357 - root_mean_squared_error: \n",
      "Epoch 2/18\n",
      "5667/5667 [==============================] - 4s 685us/step - loss: 20995.0071 - root_mean_squared_error: 144.8497\n",
      "Epoch 3/18\n",
      "5667/5667 [==============================] - 4s 685us/step - loss: 18954.6271 - root_mean_squared_error: 137.6428\n",
      "Epoch 4/18\n",
      "5667/5667 [==============================] - 4s 730us/step - loss: 18183.8414 - root_mean_squared_error: 134.8418\n",
      "Epoch 5/18\n",
      "5667/5667 [==============================] - 4s 691us/step - loss: 18008.3396 - root_mean_squared_error: 134.1818\n",
      "Epoch 6/18\n",
      "5667/5667 [==============================] - 4s 693us/step - loss: 18123.8561 - root_mean_squared_error: 134.6118 0s - loss: 18123.7916 - root_mean_squared_error: 134.611\n",
      "Epoch 7/18\n",
      "5667/5667 [==============================] - 4s 686us/step - loss: 17813.9741 - root_mean_squared_error: 133.4532\n",
      "Epoch 8/18\n",
      "5667/5667 [==============================] - 4s 691us/step - loss: 18441.0599 - root_mean_squared_error: 135.7876\n",
      "Epoch 9/18\n",
      "5667/5667 [==============================] - 4s 676us/step - loss: 17958.0090 - root_mean_squared_error: 133.9645\n",
      "Epoch 10/18\n",
      "5667/5667 [==============================] - 4s 707us/step - loss: 17711.2029 - root_mean_squared_error: 133.0499\n",
      "Epoch 11/18\n",
      "5667/5667 [==============================] - 4s 680us/step - loss: 17505.3122 - root_mean_squared_error: 132.2714\n",
      "Epoch 12/18\n",
      "5667/5667 [==============================] - 4s 682us/step - loss: 17814.1413 - root_mean_squared_error: 133.4315\n",
      "Epoch 13/18\n",
      "5667/5667 [==============================] - 4s 687us/step - loss: 18056.0755 - root_mean_squared_error: 134.3639\n",
      "Epoch 14/18\n",
      "5667/5667 [==============================] - 4s 696us/step - loss: 17879.7029 - root_mean_squared_error: 133.7072\n",
      "Epoch 15/18\n",
      "5667/5667 [==============================] - 4s 691us/step - loss: 18067.1554 - root_mean_squared_error: 134.4052\n",
      "Epoch 16/18\n",
      "5667/5667 [==============================] - 6s 979us/step - loss: 18506.8967 - root_mean_squared_error: 135.9113\n",
      "Epoch 17/18\n",
      "5667/5667 [==============================] - 4s 725us/step - loss: 17827.3969 - root_mean_squared_error: 133.5048\n",
      "Epoch 18/18\n",
      "5667/5667 [==============================] - 5s 838us/step - loss: 18458.4834 - root_mean_squared_error: 135.8413\n"
     ]
    },
    {
     "name": "stderr",
     "output_type": "stream",
     "text": [
      "/home/nardiyansah/anaconda3/lib/python3.8/site-packages/numpy/core/_asarray.py:136: VisibleDeprecationWarning: Creating an ndarray from ragged nested sequences (which is a list-or-tuple of lists-or-tuples-or ndarrays with different lengths or shapes) is deprecated. If you meant to do this, you must specify 'dtype=object' when creating the ndarray\n",
      "  return array(a, dtype, copy=False, order=order, subok=True)\n"
     ]
    },
    {
     "data": {
      "image/png": "[encoded data removed]",
      "text/plain": [
       "<Figure size 432x288 with 1 Axes>"
      ]
     },
     "metadata": {
      "needs_background": "light"
     },
     "output_type": "display_data"
    },
    {
     "data": {
      "image/png": "[encoded data removed]",
      "text/plain": [
       "<Figure size 432x288 with 1 Axes>"
      ]
     },
     "metadata": {
      "needs_background": "light"
     },
     "output_type": "display_data"
    },
    {
     "name": "stdout",
     "output_type": "stream",
     "text": [
      "WARNING:tensorflow:7 out of the last 7 calls to <function Model.make_predict_function.<locals>.predict_function at 0x7f919e7a9ca0> triggered tf.function retracing. Tracing is expensive and the excessive number of tracings could be due to (1) creating @tf.function repeatedly in a loop, (2) passing tensors with different shapes, (3) passing Python objects instead of tensors. For (1), please define your @tf.function outside of the loop. For (2), @tf.function has experimental_relax_shapes=True option that relaxes argument shapes that can avoid unnecessary retracing. For (3), please refer to https://www.tensorflow.org/guide/function#controlling_retracing and https://www.tensorflow.org/api_docs/python/tf/function for  more details.\n",
      "feature  label         predicted\n",
      "  value  value         value\n",
      "         in thousand$  in thousand$\n",
      "------------------------------------\n",
      " 1286     53             127\n",
      " 1867     92              88\n",
      " 2191     69              67\n",
      " 1052     62             142\n",
      " 1647     80             103\n",
      " 2312    295              59\n",
      " 1604    500             106\n",
      " 1066    342             141\n",
      "  338    118             189\n",
      " 1604    128             106\n"
     ]
    }
   ],
   "source": [
    "# Jawaban Google\n",
    "\n",
    "my_feature = \"population\" # Pick a feature other than \"total_rooms\"\n",
    "\n",
    "# Possibly, experiment with the hyperparameters.\n",
    "learning_rate = 0.05\n",
    "epochs = 18\n",
    "batch_size = 3\n",
    "\n",
    "# Don't change anything below.\n",
    "my_model = build_model(learning_rate)\n",
    "weight, bias, epochs, rmse = train_model(my_model, training_df, \n",
    "                                         my_feature, my_label,\n",
    "                                         epochs, batch_size)\n",
    "\n",
    "plot_the_model(weight, bias, my_feature, my_label)\n",
    "plot_the_loss_curve(epochs, rmse)\n",
    "\n",
    "predict_house_values(10, my_feature, my_label)"
   ]
  },
  {
   "cell_type": "markdown",
   "metadata": {},
   "source": [
    "Did `population` produce better predictions than `total_rooms`?"
   ]
  },
  {
   "cell_type": "code",
   "execution_count": 32,
   "metadata": {},
   "outputs": [],
   "source": [
    "# Jawaban google\n",
    "\n",
    "# Training is not entirely deterministic, but population \n",
    "# typically converges at a slightly higher RMSE than \n",
    "# total_rooms.  So, population appears to be about \n",
    "# the same or slightly worse at making predictions \n",
    "# than total_rooms."
   ]
  },
  {
   "cell_type": "markdown",
   "metadata": {},
   "source": [
    "## Task 4: Define a synthetic feature\n",
    "\n",
    "You have determined that `total_rooms` and `population` were not useful features.  That is, neither the total number of rooms in a neighborhood nor the neighborhood's population successfully predicted the median house price of that neighborhood. Perhaps though, the *ratio* of `total_rooms` to `population` might have some predictive power. That is, perhaps block density relates to median house value.\n",
    "\n",
    "To explore this hypothesis, do the following: \n",
    "\n",
    "1. Create a [synthetic feature](https://developers.google.com/machine-learning/glossary/#synthetic_feature) that's a ratio of `total_rooms` to `population`. (If you are new to pandas DataFrames, please study the [Pandas DataFrame Ultraquick Tutorial](https://colab.research.google.com/github/google/eng-edu/blob/main/ml/cc/exercises/pandas_dataframe_ultraquick_tutorial.ipynb?utm_source=linearregressionreal-colab&utm_medium=colab&utm_campaign=colab-external&utm_content=pandas_tf2-colab&hl=en).)\n",
    "2. Tune the three hyperparameters.\n",
    "3. Determine whether this synthetic feature produces \n",
    "   a lower loss value than any of the single features you \n",
    "   tried earlier in this exercise."
   ]
  },
  {
   "cell_type": "code",
   "execution_count": 36,
   "metadata": {},
   "outputs": [
    {
     "name": "stdout",
     "output_type": "stream",
     "text": [
      "Epoch 1/30\n",
      "850/850 [==============================] - 1s 625us/step - loss: 51536.3473 - root_mean_squared_error: 226.9056\n",
      "Epoch 2/30\n",
      "850/850 [==============================] - 1s 655us/step - loss: 34175.6008 - root_mean_squared_error: 184.7867\n",
      "Epoch 3/30\n",
      "850/850 [==============================] - 1s 645us/step - loss: 23389.3613 - root_mean_squared_error: 152.8702\n",
      "Epoch 4/30\n",
      "850/850 [==============================] - 1s 636us/step - loss: 17567.4841 - root_mean_squared_error: 132.5218\n",
      "Epoch 5/30\n",
      "850/850 [==============================] - 1s 630us/step - loss: 15535.6993 - root_mean_squared_error: 124.5763\n",
      "Epoch 6/30\n",
      "850/850 [==============================] - 1s 636us/step - loss: 16360.2980 - root_mean_squared_error: 127.7951\n",
      "Epoch 7/30\n",
      "850/850 [==============================] - 1s 639us/step - loss: 15188.9079 - root_mean_squared_error: 123.1886\n",
      "Epoch 8/30\n",
      "850/850 [==============================] - 1s 685us/step - loss: 14175.0852 - root_mean_squared_error: 118.9634\n",
      "Epoch 9/30\n",
      "850/850 [==============================] - 1s 626us/step - loss: 13548.6817 - root_mean_squared_error: 116.3159\n",
      "Epoch 10/30\n",
      "850/850 [==============================] - 1s 626us/step - loss: 14804.3910 - root_mean_squared_error: 121.6114\n",
      "Epoch 11/30\n",
      "850/850 [==============================] - 1s 647us/step - loss: 15276.2045 - root_mean_squared_error: 123.5345\n",
      "Epoch 12/30\n",
      "850/850 [==============================] - 1s 641us/step - loss: 16404.0260 - root_mean_squared_error: 127.6866\n",
      "Epoch 13/30\n",
      "850/850 [==============================] - 1s 637us/step - loss: 14290.0467 - root_mean_squared_error: 119.5107\n",
      "Epoch 14/30\n",
      "850/850 [==============================] - 1s 637us/step - loss: 14042.5710 - root_mean_squared_error: 118.4334\n",
      "Epoch 15/30\n",
      "850/850 [==============================] - 1s 644us/step - loss: 14626.5561 - root_mean_squared_error: 120.8533\n",
      "Epoch 16/30\n",
      "850/850 [==============================] - 1s 645us/step - loss: 15127.1389 - root_mean_squared_error: 122.9383\n",
      "Epoch 17/30\n",
      "850/850 [==============================] - 1s 638us/step - loss: 13979.8851 - root_mean_squared_error: 118.1804\n",
      "Epoch 18/30\n",
      "850/850 [==============================] - 1s 641us/step - loss: 14511.5041 - root_mean_squared_error: 120.4373\n",
      "Epoch 19/30\n",
      "850/850 [==============================] - 1s 650us/step - loss: 13510.5980 - root_mean_squared_error: 116.1726\n",
      "Epoch 20/30\n",
      "850/850 [==============================] - 1s 641us/step - loss: 14429.1628 - root_mean_squared_error: 120.0891\n",
      "Epoch 21/30\n",
      "850/850 [==============================] - 1s 640us/step - loss: 13710.4115 - root_mean_squared_error: 117.0591\n",
      "Epoch 22/30\n",
      "850/850 [==============================] - 1s 643us/step - loss: 13414.0196 - root_mean_squared_error: 115.7885\n",
      "Epoch 23/30\n",
      "850/850 [==============================] - 1s 643us/step - loss: 14086.9492 - root_mean_squared_error: 118.6369\n",
      "Epoch 24/30\n",
      "850/850 [==============================] - 1s 645us/step - loss: 15715.0400 - root_mean_squared_error: 124.9778\n",
      "Epoch 25/30\n",
      "850/850 [==============================] - 1s 662us/step - loss: 13910.8084 - root_mean_squared_error: 117.9024\n",
      "Epoch 26/30\n",
      "850/850 [==============================] - 1s 647us/step - loss: 13849.2578 - root_mean_squared_error: 117.6567\n",
      "Epoch 27/30\n",
      "850/850 [==============================] - 1s 658us/step - loss: 13448.0131 - root_mean_squared_error: 115.8771\n",
      "Epoch 28/30\n",
      "850/850 [==============================] - 1s 652us/step - loss: 14005.0484 - root_mean_squared_error: 118.2910\n",
      "Epoch 29/30\n",
      "850/850 [==============================] - 1s 660us/step - loss: 13199.1419 - root_mean_squared_error: 114.8582\n",
      "Epoch 30/30\n",
      "850/850 [==============================] - 1s 657us/step - loss: 13922.6011 - root_mean_squared_error: 117.9845\n"
     ]
    },
    {
     "data": {
      "image/png": "[encoded data removed]",
      "text/plain": [
       "<Figure size 432x288 with 1 Axes>"
      ]
     },
     "metadata": {
      "needs_background": "light"
     },
     "output_type": "display_data"
    },
    {
     "name": "stdout",
     "output_type": "stream",
     "text": [
      "WARNING:tensorflow:11 out of the last 11 calls to <function Model.make_predict_function.<locals>.predict_function at 0x7f91f5b5c310> triggered tf.function retracing. Tracing is expensive and the excessive number of tracings could be due to (1) creating @tf.function repeatedly in a loop, (2) passing tensors with different shapes, (3) passing Python objects instead of tensors. For (1), please define your @tf.function outside of the loop. For (2), @tf.function has experimental_relax_shapes=True option that relaxes argument shapes that can avoid unnecessary retracing. For (3), please refer to https://www.tensorflow.org/guide/function#controlling_retracing and https://www.tensorflow.org/api_docs/python/tf/function for  more details.\n",
      "feature  label         predicted\n",
      "  value  value         value\n",
      "         in thousand$  in thousand$\n",
      "------------------------------------\n",
      "    2     53             184\n",
      "    2     92             198\n",
      "    2     69             191\n",
      "    2     62             211\n",
      "    1     80             181\n",
      "    2    295             228\n",
      "    2    500             210\n",
      "    2    342             226\n",
      "    4    118             304\n",
      "    2    128             214\n",
      "    2    187             227\n",
      "    3     80             239\n",
      "    2    112             228\n",
      "    2     95             221\n",
      "    2     69             210\n"
     ]
    }
   ],
   "source": [
    "# Define a synthetic feature named rooms_per_person\n",
    "training_df[\"rooms_per_person\"] = training_df[\"total_rooms\"] / training_df[\"population\"] # write your code here.\n",
    "\n",
    "# Don't change the next line.\n",
    "my_feature = \"rooms_per_person\"\n",
    "\n",
    "# Assign values to these three hyperparameters.\n",
    "learning_rate = 0.02\n",
    "epochs = 30\n",
    "batch_size = 20\n",
    "\n",
    "# Don't change anything below this line.\n",
    "my_model = build_model(learning_rate)\n",
    "weight, bias, epochs, rmse = train_model(my_model, training_df,\n",
    "                                         my_feature, my_label,\n",
    "                                         epochs, batch_size)\n",
    "\n",
    "plot_the_loss_curve(epochs, rmse)\n",
    "predict_house_values(15, my_feature, my_label)"
   ]
  },
  {
   "cell_type": "code",
   "execution_count": 37,
   "metadata": {},
   "outputs": [
    {
     "name": "stdout",
     "output_type": "stream",
     "text": [
      "Epoch 1/24\n",
      "567/567 [==============================] - 1s 820us/step - loss: 46157.3226 - root_mean_squared_error: 214.5985\n",
      "Epoch 2/24\n",
      "567/567 [==============================] - 0s 741us/step - loss: 22034.8136 - root_mean_squared_error: 148.3269\n",
      "Epoch 3/24\n",
      "567/567 [==============================] - 0s 704us/step - loss: 14633.5708 - root_mean_squared_error: 120.8462\n",
      "Epoch 4/24\n",
      "567/567 [==============================] - 0s 731us/step - loss: 15017.8029 - root_mean_squared_error: 122.3137\n",
      "Epoch 5/24\n",
      "567/567 [==============================] - 1s 903us/step - loss: 14294.8161 - root_mean_squared_error: 119.5058\n",
      "Epoch 6/24\n",
      "567/567 [==============================] - 0s 754us/step - loss: 15240.5527 - root_mean_squared_error: 123.3745\n",
      "Epoch 7/24\n",
      "567/567 [==============================] - 0s 856us/step - loss: 13506.5818 - root_mean_squared_error: 116.1699\n",
      "Epoch 8/24\n",
      "567/567 [==============================] - 0s 837us/step - loss: 13479.8349 - root_mean_squared_error: 116.0621\n",
      "Epoch 9/24\n",
      "567/567 [==============================] - 0s 760us/step - loss: 14124.4597 - root_mean_squared_error: 118.7273\n",
      "Epoch 10/24\n",
      "567/567 [==============================] - 1s 905us/step - loss: 14008.6451 - root_mean_squared_error: 118.2572\n",
      "Epoch 11/24\n",
      "567/567 [==============================] - 0s 801us/step - loss: 13634.6657 - root_mean_squared_error: 116.7553\n",
      "Epoch 12/24\n",
      "567/567 [==============================] - 0s 867us/step - loss: 14140.7653 - root_mean_squared_error: 118.8577\n",
      "Epoch 13/24\n",
      "567/567 [==============================] - 0s 826us/step - loss: 13627.8505 - root_mean_squared_error: 116.6698\n",
      "Epoch 14/24\n",
      "567/567 [==============================] - 0s 788us/step - loss: 13891.6532 - root_mean_squared_error: 117.5739\n",
      "Epoch 15/24\n",
      "567/567 [==============================] - 0s 844us/step - loss: 13660.9603 - root_mean_squared_error: 116.8432\n",
      "Epoch 16/24\n",
      "567/567 [==============================] - 0s 829us/step - loss: 13348.4916 - root_mean_squared_error: 115.5169\n",
      "Epoch 17/24\n",
      "567/567 [==============================] - 0s 847us/step - loss: 13597.2170 - root_mean_squared_error: 116.5538\n",
      "Epoch 18/24\n",
      "567/567 [==============================] - 0s 875us/step - loss: 13458.0980 - root_mean_squared_error: 115.9731\n",
      "Epoch 19/24\n",
      "567/567 [==============================] - 0s 847us/step - loss: 13438.5050 - root_mean_squared_error: 115.8813\n",
      "Epoch 20/24\n",
      "567/567 [==============================] - 0s 717us/step - loss: 12763.8731 - root_mean_squared_error: 112.9542\n",
      "Epoch 21/24\n",
      "567/567 [==============================] - 0s 761us/step - loss: 13542.1125 - root_mean_squared_error: 116.3311\n",
      "Epoch 22/24\n",
      "567/567 [==============================] - 0s 719us/step - loss: 13395.5828 - root_mean_squared_error: 115.7006\n",
      "Epoch 23/24\n",
      "567/567 [==============================] - 1s 926us/step - loss: 13258.3902 - root_mean_squared_error: 115.1267\n",
      "Epoch 24/24\n",
      "567/567 [==============================] - 0s 720us/step - loss: 13503.4150 - root_mean_squared_error: 116.1767\n"
     ]
    },
    {
     "data": {
      "image/png": "[encoded data removed]",
      "text/plain": [
       "<Figure size 432x288 with 1 Axes>"
      ]
     },
     "metadata": {
      "needs_background": "light"
     },
     "output_type": "display_data"
    },
    {
     "name": "stdout",
     "output_type": "stream",
     "text": [
      "WARNING:tensorflow:11 out of the last 11 calls to <function Model.make_predict_function.<locals>.predict_function at 0x7f91f77153a0> triggered tf.function retracing. Tracing is expensive and the excessive number of tracings could be due to (1) creating @tf.function repeatedly in a loop, (2) passing tensors with different shapes, (3) passing Python objects instead of tensors. For (1), please define your @tf.function outside of the loop. For (2), @tf.function has experimental_relax_shapes=True option that relaxes argument shapes that can avoid unnecessary retracing. For (3), please refer to https://www.tensorflow.org/guide/function#controlling_retracing and https://www.tensorflow.org/api_docs/python/tf/function for  more details.\n",
      "feature  label         predicted\n",
      "  value  value         value\n",
      "         in thousand$  in thousand$\n",
      "------------------------------------\n",
      "    2     53             189\n",
      "    2     92             200\n",
      "    2     69             195\n",
      "    2     62             211\n",
      "    1     80             186\n",
      "    2    295             224\n",
      "    2    500             210\n",
      "    2    342             222\n",
      "    4    118             285\n",
      "    2    128             213\n",
      "    2    187             223\n",
      "    3     80             233\n",
      "    2    112             224\n",
      "    2     95             218\n",
      "    2     69             210\n"
     ]
    }
   ],
   "source": [
    "# Jawaban dari Google\n",
    "\n",
    "# Define a synthetic feature\n",
    "training_df[\"rooms_per_person\"] = training_df[\"total_rooms\"] / training_df[\"population\"]\n",
    "my_feature = \"rooms_per_person\"\n",
    "\n",
    "# Tune the hyperparameters.\n",
    "learning_rate = 0.06\n",
    "epochs = 24\n",
    "batch_size = 30\n",
    "\n",
    "# Don't change anything below this line.\n",
    "my_model = build_model(learning_rate)\n",
    "weight, bias, epochs, mae = train_model(my_model, training_df,\n",
    "                                        my_feature, my_label,\n",
    "                                        epochs, batch_size)\n",
    "\n",
    "plot_the_loss_curve(epochs, mae)\n",
    "predict_house_values(15, my_feature, my_label)\n"
   ]
  },
  {
   "cell_type": "markdown",
   "metadata": {},
   "source": [
    "Based on the loss values, this synthetic feature produces a better model than the individual features you tried in Task 2 and Task 3. However, the model still isn't creating great predictions.\n"
   ]
  },
  {
   "cell_type": "markdown",
   "metadata": {},
   "source": [
    "## Task 5. Find feature(s) whose raw values correlate with the label\n",
    "\n",
    "So far, we've relied on trial-and-error to identify possible features for the model.  Let's rely on statistics instead.\n",
    "\n",
    "A **correlation matrix** indicates how each attribute's raw values relate to the other attributes' raw values. Correlation values have the following meanings:\n",
    "\n",
    "  * `1.0`: perfect positive correlation; that is, when one attribute rises, the other attribute rises.\n",
    "  * `-1.0`: perfect negative correlation; that is, when one attribute rises, the other attribute falls. \n",
    "  * `0.0`: no correlation; the two column's [are not linearly related](https://en.wikipedia.org/wiki/Correlation_and_dependence#/media/File:Correlation_examples2.svg).\n",
    "\n",
    "In general, the higher the absolute value of a correlation value, the greater its predictive power. For example, a correlation value of -0.8 implies far more predictive power than a correlation of -0.2.\n",
    "\n",
    "Kode dibawah akan menghasilkan correlation matrix untuk atribut California Housing Dataset:"
   ]
  },
  {
   "cell_type": "code",
   "execution_count": 38,
   "metadata": {},
   "outputs": [
    {
     "data": {
      "text/html": [
       "<div>\n",
       "<style scoped>\n",
       "    .dataframe tbody tr th:only-of-type {\n",
       "        vertical-align: middle;\n",
       "    }\n",
       "\n",
       "    .dataframe tbody tr th {\n",
       "        vertical-align: top;\n",
       "    }\n",
       "\n",
       "    .dataframe thead th {\n",
       "        text-align: right;\n",
       "    }\n",
       "</style>\n",
       "<table border=\"1\" class=\"dataframe\">\n",
       "  <thead>\n",
       "    <tr style=\"text-align: right;\">\n",
       "      <th></th>\n",
       "      <th>longitude</th>\n",
       "      <th>latitude</th>\n",
       "      <th>housing_median_age</th>\n",
       "      <th>total_rooms</th>\n",
       "      <th>total_bedrooms</th>\n",
       "      <th>population</th>\n",
       "      <th>households</th>\n",
       "      <th>median_income</th>\n",
       "      <th>median_house_value</th>\n",
       "      <th>rooms_per_person</th>\n",
       "    </tr>\n",
       "  </thead>\n",
       "  <tbody>\n",
       "    <tr>\n",
       "      <th>longitude</th>\n",
       "      <td>1.0</td>\n",
       "      <td>-0.9</td>\n",
       "      <td>-0.1</td>\n",
       "      <td>0.0</td>\n",
       "      <td>0.1</td>\n",
       "      <td>0.1</td>\n",
       "      <td>0.1</td>\n",
       "      <td>-0.0</td>\n",
       "      <td>-0.0</td>\n",
       "      <td>-0.1</td>\n",
       "    </tr>\n",
       "    <tr>\n",
       "      <th>latitude</th>\n",
       "      <td>-0.9</td>\n",
       "      <td>1.0</td>\n",
       "      <td>0.0</td>\n",
       "      <td>-0.0</td>\n",
       "      <td>-0.1</td>\n",
       "      <td>-0.1</td>\n",
       "      <td>-0.1</td>\n",
       "      <td>-0.1</td>\n",
       "      <td>-0.1</td>\n",
       "      <td>0.1</td>\n",
       "    </tr>\n",
       "    <tr>\n",
       "      <th>housing_median_age</th>\n",
       "      <td>-0.1</td>\n",
       "      <td>0.0</td>\n",
       "      <td>1.0</td>\n",
       "      <td>-0.4</td>\n",
       "      <td>-0.3</td>\n",
       "      <td>-0.3</td>\n",
       "      <td>-0.3</td>\n",
       "      <td>-0.1</td>\n",
       "      <td>0.1</td>\n",
       "      <td>-0.1</td>\n",
       "    </tr>\n",
       "    <tr>\n",
       "      <th>total_rooms</th>\n",
       "      <td>0.0</td>\n",
       "      <td>-0.0</td>\n",
       "      <td>-0.4</td>\n",
       "      <td>1.0</td>\n",
       "      <td>0.9</td>\n",
       "      <td>0.9</td>\n",
       "      <td>0.9</td>\n",
       "      <td>0.2</td>\n",
       "      <td>0.1</td>\n",
       "      <td>0.1</td>\n",
       "    </tr>\n",
       "    <tr>\n",
       "      <th>total_bedrooms</th>\n",
       "      <td>0.1</td>\n",
       "      <td>-0.1</td>\n",
       "      <td>-0.3</td>\n",
       "      <td>0.9</td>\n",
       "      <td>1.0</td>\n",
       "      <td>0.9</td>\n",
       "      <td>1.0</td>\n",
       "      <td>-0.0</td>\n",
       "      <td>0.0</td>\n",
       "      <td>0.0</td>\n",
       "    </tr>\n",
       "    <tr>\n",
       "      <th>population</th>\n",
       "      <td>0.1</td>\n",
       "      <td>-0.1</td>\n",
       "      <td>-0.3</td>\n",
       "      <td>0.9</td>\n",
       "      <td>0.9</td>\n",
       "      <td>1.0</td>\n",
       "      <td>0.9</td>\n",
       "      <td>-0.0</td>\n",
       "      <td>-0.0</td>\n",
       "      <td>-0.1</td>\n",
       "    </tr>\n",
       "    <tr>\n",
       "      <th>households</th>\n",
       "      <td>0.1</td>\n",
       "      <td>-0.1</td>\n",
       "      <td>-0.3</td>\n",
       "      <td>0.9</td>\n",
       "      <td>1.0</td>\n",
       "      <td>0.9</td>\n",
       "      <td>1.0</td>\n",
       "      <td>0.0</td>\n",
       "      <td>0.1</td>\n",
       "      <td>-0.0</td>\n",
       "    </tr>\n",
       "    <tr>\n",
       "      <th>median_income</th>\n",
       "      <td>-0.0</td>\n",
       "      <td>-0.1</td>\n",
       "      <td>-0.1</td>\n",
       "      <td>0.2</td>\n",
       "      <td>-0.0</td>\n",
       "      <td>-0.0</td>\n",
       "      <td>0.0</td>\n",
       "      <td>1.0</td>\n",
       "      <td>0.7</td>\n",
       "      <td>0.2</td>\n",
       "    </tr>\n",
       "    <tr>\n",
       "      <th>median_house_value</th>\n",
       "      <td>-0.0</td>\n",
       "      <td>-0.1</td>\n",
       "      <td>0.1</td>\n",
       "      <td>0.1</td>\n",
       "      <td>0.0</td>\n",
       "      <td>-0.0</td>\n",
       "      <td>0.1</td>\n",
       "      <td>0.7</td>\n",
       "      <td>1.0</td>\n",
       "      <td>0.2</td>\n",
       "    </tr>\n",
       "    <tr>\n",
       "      <th>rooms_per_person</th>\n",
       "      <td>-0.1</td>\n",
       "      <td>0.1</td>\n",
       "      <td>-0.1</td>\n",
       "      <td>0.1</td>\n",
       "      <td>0.0</td>\n",
       "      <td>-0.1</td>\n",
       "      <td>-0.0</td>\n",
       "      <td>0.2</td>\n",
       "      <td>0.2</td>\n",
       "      <td>1.0</td>\n",
       "    </tr>\n",
       "  </tbody>\n",
       "</table>\n",
       "</div>"
      ],
      "text/plain": [
       "                    longitude  latitude  housing_median_age  total_rooms  \\\n",
       "longitude                 1.0      -0.9                -0.1          0.0   \n",
       "latitude                 -0.9       1.0                 0.0         -0.0   \n",
       "housing_median_age       -0.1       0.0                 1.0         -0.4   \n",
       "total_rooms               0.0      -0.0                -0.4          1.0   \n",
       "total_bedrooms            0.1      -0.1                -0.3          0.9   \n",
       "population                0.1      -0.1                -0.3          0.9   \n",
       "households                0.1      -0.1                -0.3          0.9   \n",
       "median_income            -0.0      -0.1                -0.1          0.2   \n",
       "median_house_value       -0.0      -0.1                 0.1          0.1   \n",
       "rooms_per_person         -0.1       0.1                -0.1          0.1   \n",
       "\n",
       "                    total_bedrooms  population  households  median_income  \\\n",
       "longitude                      0.1         0.1         0.1           -0.0   \n",
       "latitude                      -0.1        -0.1        -0.1           -0.1   \n",
       "housing_median_age            -0.3        -0.3        -0.3           -0.1   \n",
       "total_rooms                    0.9         0.9         0.9            0.2   \n",
       "total_bedrooms                 1.0         0.9         1.0           -0.0   \n",
       "population                     0.9         1.0         0.9           -0.0   \n",
       "households                     1.0         0.9         1.0            0.0   \n",
       "median_income                 -0.0        -0.0         0.0            1.0   \n",
       "median_house_value             0.0        -0.0         0.1            0.7   \n",
       "rooms_per_person               0.0        -0.1        -0.0            0.2   \n",
       "\n",
       "                    median_house_value  rooms_per_person  \n",
       "longitude                         -0.0              -0.1  \n",
       "latitude                          -0.1               0.1  \n",
       "housing_median_age                 0.1              -0.1  \n",
       "total_rooms                        0.1               0.1  \n",
       "total_bedrooms                     0.0               0.0  \n",
       "population                        -0.0              -0.1  \n",
       "households                         0.1              -0.0  \n",
       "median_income                      0.7               0.2  \n",
       "median_house_value                 1.0               0.2  \n",
       "rooms_per_person                   0.2               1.0  "
      ]
     },
     "execution_count": 38,
     "metadata": {},
     "output_type": "execute_result"
    }
   ],
   "source": [
    "# Generate a correlation matrix\n",
    "training_df.corr()"
   ]
  },
  {
   "cell_type": "markdown",
   "metadata": {},
   "source": [
    "The correlation matrix shows nine potential features (including a synthetic\n",
    "feature) and one label (`median_house_value`).  A strong negative correlation or strong positive correlation with the label suggests a potentially good feature.  \n",
    "\n",
    "**Your Task:** Determine which of the nine potential features appears to be the best candidate for a feature?"
   ]
  },
  {
   "cell_type": "code",
   "execution_count": 39,
   "metadata": {},
   "outputs": [
    {
     "name": "stdout",
     "output_type": "stream",
     "text": [
      "Epoch 1/24\n",
      "567/567 [==============================] - 1s 793us/step - loss: 37263.6634 - root_mean_squared_error: 192.0716\n",
      "Epoch 2/24\n",
      "567/567 [==============================] - 0s 751us/step - loss: 7615.3125 - root_mean_squared_error: 87.2363\n",
      "Epoch 3/24\n",
      "567/567 [==============================] - 0s 869us/step - loss: 6994.9705 - root_mean_squared_error: 83.6279\n",
      "Epoch 4/24\n",
      "567/567 [==============================] - 1s 1ms/step - loss: 6713.6026 - root_mean_squared_error: 81.9073\n",
      "Epoch 5/24\n",
      "567/567 [==============================] - 0s 798us/step - loss: 6745.0902 - root_mean_squared_error: 82.0980\n",
      "Epoch 6/24\n",
      "567/567 [==============================] - 0s 774us/step - loss: 6937.3754 - root_mean_squared_error: 83.2755\n",
      "Epoch 7/24\n",
      "567/567 [==============================] - 0s 689us/step - loss: 6756.0680 - root_mean_squared_error: 82.1736\n",
      "Epoch 8/24\n",
      "567/567 [==============================] - 0s 725us/step - loss: 7135.8972 - root_mean_squared_error: 84.4581\n",
      "Epoch 9/24\n",
      "567/567 [==============================] - 0s 723us/step - loss: 6995.7260 - root_mean_squared_error: 83.6254\n",
      "Epoch 10/24\n",
      "567/567 [==============================] - 0s 696us/step - loss: 7127.2427 - root_mean_squared_error: 84.4165\n",
      "Epoch 11/24\n",
      "567/567 [==============================] - 0s 708us/step - loss: 7041.7445 - root_mean_squared_error: 83.9054\n",
      "Epoch 12/24\n",
      "567/567 [==============================] - 0s 744us/step - loss: 7054.0589 - root_mean_squared_error: 83.9848\n",
      "Epoch 13/24\n",
      "567/567 [==============================] - 0s 768us/step - loss: 6996.6858 - root_mean_squared_error: 83.6313\n",
      "Epoch 14/24\n",
      "567/567 [==============================] - 1s 892us/step - loss: 6946.2345 - root_mean_squared_error: 83.3296\n",
      "Epoch 15/24\n",
      "567/567 [==============================] - 1s 946us/step - loss: 6927.1537 - root_mean_squared_error: 83.2238\n",
      "Epoch 16/24\n",
      "567/567 [==============================] - 0s 805us/step - loss: 7073.6892 - root_mean_squared_error: 84.0944\n",
      "Epoch 17/24\n",
      "567/567 [==============================] - 1s 1ms/step - loss: 7167.9799 - root_mean_squared_error: 84.6457\n",
      "Epoch 18/24\n",
      "567/567 [==============================] - 0s 755us/step - loss: 7105.7222 - root_mean_squared_error: 84.2825\n",
      "Epoch 19/24\n",
      "567/567 [==============================] - 0s 819us/step - loss: 7030.3208 - root_mean_squared_error: 83.8409\n",
      "Epoch 20/24\n",
      "567/567 [==============================] - 0s 713us/step - loss: 7299.2290 - root_mean_squared_error: 85.3922\n",
      "Epoch 21/24\n",
      "567/567 [==============================] - 0s 741us/step - loss: 6976.3899 - root_mean_squared_error: 83.5147\n",
      "Epoch 22/24\n",
      "567/567 [==============================] - 0s 749us/step - loss: 6967.0445 - root_mean_squared_error: 83.4450\n",
      "Epoch 23/24\n",
      "567/567 [==============================] - 0s 752us/step - loss: 7125.0116 - root_mean_squared_error: 84.3988\n",
      "Epoch 24/24\n",
      "567/567 [==============================] - 1s 1ms/step - loss: 6860.6135 - root_mean_squared_error: 82.8211\n"
     ]
    },
    {
     "data": {
      "image/png": "[encoded data removed]",
      "text/plain": [
       "<Figure size 432x288 with 1 Axes>"
      ]
     },
     "metadata": {
      "needs_background": "light"
     },
     "output_type": "display_data"
    },
    {
     "name": "stdout",
     "output_type": "stream",
     "text": [
      "WARNING:tensorflow:11 out of the last 11 calls to <function Model.make_predict_function.<locals>.predict_function at 0x7f91f77a74c0> triggered tf.function retracing. Tracing is expensive and the excessive number of tracings could be due to (1) creating @tf.function repeatedly in a loop, (2) passing tensors with different shapes, (3) passing Python objects instead of tensors. For (1), please define your @tf.function outside of the loop. For (2), @tf.function has experimental_relax_shapes=True option that relaxes argument shapes that can avoid unnecessary retracing. For (3), please refer to https://www.tensorflow.org/guide/function#controlling_retracing and https://www.tensorflow.org/api_docs/python/tf/function for  more details.\n",
      "feature  label         predicted\n",
      "  value  value         value\n",
      "         in thousand$  in thousand$\n",
      "------------------------------------\n",
      "    2     53             134\n",
      "    4     92             212\n",
      "    3     69             154\n",
      "    2     62             132\n",
      "    3     80             154\n",
      "    2    295             148\n",
      "   10    500             457\n",
      "    5    342             260\n",
      "    2    118             147\n",
      "    4    128             221\n",
      "    8    187             397\n",
      "    3     80             163\n",
      "    3    112             179\n",
      "    4     95             222\n",
      "    2     69             143\n"
     ]
    }
   ],
   "source": [
    "# Jawaban dari Google\n",
    "\n",
    "# Define a synthetic feature\n",
    "my_feature = \"median_income\" # berdasarkan correlation matrix, saya pilih median_income\n",
    "\n",
    "# Tune the hyperparameters.\n",
    "learning_rate = 0.06\n",
    "epochs = 24\n",
    "batch_size = 30\n",
    "\n",
    "# Don't change anything below this line.\n",
    "my_model = build_model(learning_rate)\n",
    "weight, bias, epochs, mae = train_model(my_model, training_df,\n",
    "                                        my_feature, my_label,\n",
    "                                        epochs, batch_size)\n",
    "\n",
    "plot_the_loss_curve(epochs, mae)\n",
    "predict_house_values(15, my_feature, my_label)\n"
   ]
  },
  {
   "cell_type": "code",
   "execution_count": 40,
   "metadata": {},
   "outputs": [],
   "source": [
    "# Jawaban dari Google\n",
    "\n",
    "# The `median_income` correlates 0.7 with the label \n",
    "# (median_house_value), so median_income` might be a \n",
    "# good feature. The other seven potential features\n",
    "# all have a correlation relatively close to 0. \n",
    "\n",
    "# If time permits, try median_income as the feature\n",
    "# and see whether the model improves."
   ]
  },
  {
   "cell_type": "markdown",
   "metadata": {},
   "source": [
    "Correlation matrices don't tell the entire story. In later exercises, you'll find additional ways to unlock predictive power from potential features.\n",
    "\n",
    "**Note:** Using `median_income` as a feature may raise some ethical and fairness\n",
    "issues. Towards the end of the course, we'll explore ethical and fairness issues."
   ]
  },
  {
   "cell_type": "code",
   "execution_count": null,
   "metadata": {},
   "outputs": [],
   "source": []
  }
 ],
 "metadata": {
  "kernelspec": {
   "display_name": "Python 3",
   "language": "python",
   "name": "python3"
  },
  "language_info": {
   "codemirror_mode": {
    "name": "ipython",
    "version": 3
   },
   "file_extension": ".py",
   "mimetype": "text/x-python",
   "name": "python",
   "nbconvert_exporter": "python",
   "pygments_lexer": "ipython3",
   "version": "3.8.5"
  }
 },
 "nbformat": 4,
 "nbformat_minor": 4
}
